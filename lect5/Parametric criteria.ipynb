{
 "cells": [
  {
   "cell_type": "markdown",
   "metadata": {},
   "source": [
    "# Тестирование гипотез 1. Параметрические критерии"
   ]
  },
  {
   "cell_type": "markdown",
   "metadata": {},
   "source": [
    "*Подготовил: Ян Пиле*"
   ]
  },
  {
   "cell_type": "markdown",
   "metadata": {},
   "source": [
    "Умение тестировать статистические гипотезы – один из наиболее востребованных навыков аналитика. Давайте приведем пример. Мы сделали новую модель, которая умеет предсказывать, совершит ли покупку на сайте человек в ближайшую неделю. Как проверить, что мы хорошо научились угадывать? Очень просто - давайте для наших пользователей сгенерируем предсказания модели, а потом сравним эти предсказания с фактом покупок. Логично. Наша модель будет полезна, если она работает лучше, чем случайная угадайка (1/2, что купит и 1/2, что не купит). \n",
    "\n",
    "Давайте проверим гипотезу, что наша модель == подбрасывание монетки. Говорят данные в пользу такого утверждения или против него?\n"
   ]
  },
  {
   "cell_type": "markdown",
   "metadata": {},
   "source": [
    "Проверка гипотезы формализуется так:"
   ]
  },
  {
   "cell_type": "markdown",
   "metadata": {},
   "source": [
    "**Выборка**   $X_n = {X_1 ... X_n}$ из неизвестного распределения $X \\sim P$\n",
    "\n",
    "**Нулевая гипотеза**    $H_0: P \\in \\omega$ ,  где $\\omega$ - известное семейство распределений\n",
    "\n",
    "**Альтернативная гипотеза**     $H_1: P \\notin \\omega$ \n",
    "\n",
    "**Статистика**    $T(X_n)$\n",
    "\n",
    "**Нулевое распределение**    $F(T)$ - распределение статистики в случае справедливости $H_0$\n",
    "\n",
    "Если справедлива гипотеза $H_1$ , то распределение нашей статистики имеет ДРУГОЕ распределение, не  $F(T)$"
   ]
  },
  {
   "cell_type": "markdown",
   "metadata": {},
   "source": [
    "**Определение** *p-value* или достигаемый уровень значимости это вероятность получить такое же или еще более экстремальное значение статистики $T(X_n)$, чем было получено в эксперименте, при условии справедливости $H_0$"
   ]
  },
  {
   "cell_type": "markdown",
   "metadata": {},
   "source": [
    "То есть если p-value достаточно мало, это значит, что данные свидетельствуют ПРОТИВ нулевой гипотезы, потому что вероятность получить такое значение при ее справедливости – маленькая величина. Обычно p-value сравнивают с наперед заданным уровнем значимости $\\alpha$, которы обычно берется за 0.05 или 0.01. Ну и если $p-value < \\alpha$, говорят, что нулевая гипотеза ОТВЕРГАЕТСЯ в пользу альтернативы."
   ]
  },
  {
   "cell_type": "markdown",
   "metadata": {},
   "source": [
    "<img src=\"https://be5.biz/ekonomika/e008/image/pic_186.jpg\" width=\"500\">"
   ]
  },
  {
   "cell_type": "markdown",
   "metadata": {},
   "source": [
    "При тестировании гипотез существуют два вида ошибок: неверно отклоняется или неверно принимается гипотеза. В тестировании гипотез считается, что ошибка первого рода критичнее, так как вероятность отвержения нулевой гипотезы оказывается ограниченной сверху нашим уровнем значимости:\n",
    "$$P(\\text{ошибка первого рода})\\le\\alpha$$"
   ]
  },
  {
   "cell_type": "markdown",
   "metadata": {},
   "source": [
    "Ошибки второго рода так явно не минимизируются. Вероятность ошибки второго рода напрямую связана с понятием мощности статистического критерия,  то есть:\n",
    "$$P(\\text{вероятность отвергнуть $H_0$}|H_1) = 1 - P(\\text{вероятность принять $H_0$}|H_1)$$\n",
    "\n",
    "То есть среди всех подходящих критериев мы должны выбрать тот, у которого максимальная мощность."
   ]
  },
  {
   "cell_type": "markdown",
   "metadata": {},
   "source": [
    "Даже в терминологии здесь видна несимметричность. Если достигаемый уровень значимости меньше $\\alpha$, то гипотеза $H_0$ отвергается, а если не меньше, то НЕ отвергается (а не принимается, как ожидалось). То есть это не доказательство того, что $H_0$ верна."
   ]
  },
  {
   "cell_type": "markdown",
   "metadata": {},
   "source": [
    "## Размер эффекта"
   ]
  },
  {
   "cell_type": "markdown",
   "metadata": {},
   "source": [
    "Когда мы проводим тестирование гипотез, нас на самом деле интересует некий дополнительный эффект, который мы можем получить за счет тестируемой функциональности, например кол-во дополнительных заказов от новой программы лояльности, увеличение длины диалога с голосовым помощником от новой диалоговой механики или добавочная вероятность выздоровления от применения нового способа лечения болезни. Мы с вами не можем оценить этот эффект на всей генеральной совокупности и поэтому оцениваем его по выборке. Вот тут-то нам и пригождается достигаемый уровень значимости, чтобы понять, с какой вероятностью такой же эффект можно было бы получить случайно."
   ]
  },
  {
   "cell_type": "markdown",
   "metadata": {},
   "source": [
    "p сильно зависит не только от размера эффекта, но и от размера выборки. На больших выборках вы будете замечать все более и более тонкие отклонения от нулевой гипотезы и при каком-то n почти все $H_0$ будут отвергаться."
   ]
  },
  {
   "cell_type": "markdown",
   "metadata": {},
   "source": [
    "Поэтому эффект часто надо оценивать с прикладной точки зрения. Например если в течение трех лет регулярные тренировки в спортзале по некой системе помогли людям с ожирением снизить массу тела в среднем на 200 граммов и этот эффект статистически значим, представляется весьма сомнительным, что кто-либо желающий похудеть получит от такой цифры моральное удовлетворение. А значит в контексте похудения этот эффект практически бесполезен."
   ]
  },
  {
   "cell_type": "markdown",
   "metadata": {},
   "source": [
    "С другой стороны, не все статистически не значимые эксперименты бессмысленны. Скажем, если вы изобрели новое лекарство от вируса COVID-19, протестировали его на добровольцах, оно показывает хорошие результаты (люди выздоравливают, побочных эффектов нет), но при этом результат не стал статистически значимым, это не повод все бросить. Исследования стоит продолжать, потому что практически такой эффект может оказаться значимым. Возможно вам стоит подумать об уменьшении дисперсии в вашем исследовании."
   ]
  },
  {
   "cell_type": "markdown",
   "metadata": {},
   "source": [
    "# Параметрические критерии \n",
    "\n",
    "Так называют критерии, которые делают некие предположения о характере распределений. А мы, в частности, будем оценивать какие-либо параметры этих распределений. Начнем с проверки гипотез, связанных с признаками, распределенными нормально. Начнем с так называемых критериев Стьюдента о математических ожиданиях. "
   ]
  },
  {
   "cell_type": "markdown",
   "metadata": {},
   "source": [
    "## Биномиальный тест для доли"
   ]
  },
  {
   "cell_type": "markdown",
   "metadata": {},
   "source": [
    "## Lady tasting tea experiment\n",
    "\n",
    "Известный статистик Рональд Фишер провел эксперимент, в котором предложил даме 8 чашек чая, в 4 из которых сначала добавили чай, а потом молоко, а в 4 другие – наоборот (сначала молоко, потом чай). Ей необходимо было разбить чашки на две группы (первым было молоко или первым был чай). Проверялась гипотеза о том, что дама случайно угадывает, что было налито первым. В ходе анализа этого эксперимента Фишер придумал так называемый [Точный тест Фишера](https://ru.wikipedia.org/wiki/Точный_тест_Фишера), а дама подтвердила свое умение определять, что было первым налито в чашку.\n",
    "\n",
    "Проведем эксперимент чуть иначе. Предложим даме 20 чашек (по две за раз) и будем спрашивать в какой чашке из пары сначала налито молоко. Тогда наш эксперимент - бинарный вектор длины 10 (допустим 0 - налит чай, а 1 -налито молоко)."
   ]
  },
  {
   "cell_type": "markdown",
   "metadata": {},
   "source": [
    "Если нулевая гипотеза о выборе наугад справедлива , то мы равновероятно можем получить любой из $2^n$ бинарных векторов длины $n$. \n",
    "\n",
    "Нулевая гипотеза выбора наугад соответствует значению $p=\\frac1{2}$, то есть, в каждом эксперименте вероятность выбора чая, в который сначала налито молоко – $\\frac1{2}$. Сумма $n$ одинаково распределённых бернуллиевских случайных величин с параметром $p$ имеет биномиальное распределение $Bin(n, p)$. Значит наше нулевое распределение статистики $T$ — $Bin\\left(n, \\frac1{2}\\right)$.\n",
    "\n",
    "Мы уже сказали, что $n=10.$"
   ]
  },
  {
   "cell_type": "code",
   "execution_count": 1,
   "metadata": {},
   "outputs": [],
   "source": [
    "import numpy as np\n",
    "import pandas as pd\n",
    "from scipy import stats\n",
    "import scipy"
   ]
  },
  {
   "cell_type": "code",
   "execution_count": 2,
   "metadata": {},
   "outputs": [
    {
     "name": "stdout",
     "output_type": "stream",
     "text": [
      "Populating the interactive namespace from numpy and matplotlib\n"
     ]
    }
   ],
   "source": [
    "%pylab inline"
   ]
  },
  {
   "cell_type": "code",
   "execution_count": 3,
   "metadata": {},
   "outputs": [],
   "source": [
    "n = 10\n",
    "F_H0 = stats.binom(n, 0.5)"
   ]
  },
  {
   "cell_type": "code",
   "execution_count": 4,
   "metadata": {},
   "outputs": [
    {
     "data": {
      "image/png": "[encoded data removed]",
      "text/plain": [
       "<Figure size 432x288 with 1 Axes>"
      ]
     },
     "metadata": {
      "needs_background": "light"
     },
     "output_type": "display_data"
    }
   ],
   "source": [
    "x = np.linspace(0,9,10)\n",
    "\n",
    "pylab.bar(x, F_H0.pmf(x))\n",
    "xlim(-0.5, 16.5) \n",
    "pylab.show()"
   ]
  },
  {
   "cell_type": "markdown",
   "metadata": {},
   "source": [
    "## Односторонняя альтернатива\n",
    "\n",
    "Означает, что мы проверяем гипотезу, что дама угадывает лучше чем случайный классификатор (чаще действительно угадывает молоко).\n"
   ]
  },
  {
   "cell_type": "code",
   "execution_count": 5,
   "metadata": {},
   "outputs": [
    {
     "data": {
      "text/plain": [
       "0.0107421875"
      ]
     },
     "execution_count": 5,
     "metadata": {},
     "output_type": "execute_result"
    }
   ],
   "source": [
    "stats.binom_test(9, 10, 0.5, alternative = 'greater')"
   ]
  },
  {
   "cell_type": "markdown",
   "metadata": {},
   "source": [
    "## Двусторонняя альтернатива\n",
    "\n",
    "Означает, что мы проверяем гипотезу, что угадывает не как случайный классификатор (или чаще действительно угадывает молоко или чаще вместо молока указывает на чай)"
   ]
  },
  {
   "cell_type": "code",
   "execution_count": 6,
   "metadata": {},
   "outputs": [
    {
     "data": {
      "text/plain": [
       "0.021484375"
      ]
     },
     "execution_count": 6,
     "metadata": {},
     "output_type": "execute_result"
    }
   ],
   "source": [
    "stats.binom_test(9, 10, 0.5, alternative = 'two-sided')"
   ]
  },
  {
   "cell_type": "markdown",
   "metadata": {},
   "source": [
    "Заметьте, что и в первом случае для стат.значимости надо угадать 9 раз из 10, а во втором - или угадать 9 раз или ошибиться 9 раз."
   ]
  },
  {
   "cell_type": "markdown",
   "metadata": {},
   "source": [
    "## Связь с доверительными интервалами"
   ]
  },
  {
   "cell_type": "markdown",
   "metadata": {},
   "source": [
    "Понятно, что тестирование гипотез напрямую связано с построением доверительных интервалов. Возьмем задачку о сравнении классификатора на сбалансированной выборке(50 на 50) с подбрасыванием монетки (генератором случайных чисел). Если построить 95% доверительный интервал для доли  верно угаданных ответов и он не будет содержать 0.5 (вероятность случайного угадывания), можно смело утверждать, что на уровне 95% гипотеза об идентичности вашего классификатора и генератора случайных чисел отвергается. "
   ]
  },
  {
   "cell_type": "markdown",
   "metadata": {},
   "source": [
    "**Выборка**    $X_n = {X_1 ... X_n}$ из неизвестного распределения $X \\sim P$\n",
    "\n",
    "**Нулевая гипотеза**    $H_0: \\theta = \\theta_0$\n",
    "\n",
    "**Альтернативная гипотеза**     $H_1: \\theta \\not= \\theta_0$ \n",
    "\n",
    "\n",
    "$H_0$ отвергается на уровне значимости $100(1-\\alpha)$, если доверительный интервал для $\\theta$ не содержит $\\theta_0$"
   ]
  },
  {
   "cell_type": "markdown",
   "metadata": {},
   "source": [
    "*p-value* здесь можно найти численно как такое значение $\\alpha$, что $\\theta_0$ будет попадать ровно на границу доверительного интервала."
   ]
  },
  {
   "cell_type": "markdown",
   "metadata": {},
   "source": [
    "Пусть у нас есть ответы классификатора для задачи с двумя сбалансированными выборками. Будем обозначать правильный ответ за 1, а неправильный - за 0. На тестовой выборке длины 1000 классификатор верно угадал 600 из 1000 ответов. Лучше ли он, чем бросание монетки?"
   ]
  },
  {
   "cell_type": "markdown",
   "metadata": {},
   "source": [
    "## Z-критерий для Доли\n",
    "\n",
    "**Выборка**    $X_n = {X_1 ... X_n}$ из распределения Бернулли $X \\sim Ber(p)$\n",
    "\n",
    "**Нулевая гипотеза**    $H_0: p = p_0$\n",
    "\n",
    "**Альтернативная гипотеза**     $H_1: p \\not= p_0$  (Двусторонняя альтернатива)\n",
    "\n",
    "**Статистика** $Z_n = \\dfrac{\\bar{p}-p_0}{\\sqrt{\\dfrac{p_0(1-p_0)}{n}}}$\n",
    "\n",
    "**Нулевое распределение** $Z_n \\sim N(0,1)$"
   ]
  },
  {
   "cell_type": "code",
   "execution_count": 7,
   "metadata": {},
   "outputs": [],
   "source": [
    "answers = np.concatenate((np.ones(600), np.zeros(400)))"
   ]
  },
  {
   "cell_type": "code",
   "execution_count": 8,
   "metadata": {},
   "outputs": [],
   "source": [
    "def ratio_statistics(sample, p_0):\n",
    "    mean = sample.mean()\n",
    "    z = (mean - p_0)/np.sqrt(p_0*(1-p_0)/len(sample))\n",
    "    return z    "
   ]
  },
  {
   "cell_type": "code",
   "execution_count": 9,
   "metadata": {},
   "outputs": [
    {
     "data": {
      "text/plain": [
       "2.539628507491898e-10"
      ]
     },
     "execution_count": 9,
     "metadata": {},
     "output_type": "execute_result"
    }
   ],
   "source": [
    "2 * (1 - scipy.stats.norm.cdf(np.abs(ratio_statistics(answers,0.5))))"
   ]
  },
  {
   "cell_type": "markdown",
   "metadata": {},
   "source": [
    "Видим, что наш классификатор с большой вероятностью лучше бросания монетки."
   ]
  },
  {
   "cell_type": "markdown",
   "metadata": {},
   "source": [
    "Рассмотрим другую задачу: Пусть у нас есть два баннера, каждый из которых показали выборке в 1000 человек, и нужно выяснить, отличаются CTR баннеров значимо или нет. "
   ]
  },
  {
   "cell_type": "markdown",
   "metadata": {},
   "source": [
    "## Z-критерий (независимые выборки)\n",
    "\n",
    "\n",
    "**Выборка**    $X_1^{n1} = {X_{11} ... X_{1n_1}}$ из распределения Бернулли $X_1 \\sim Ber(p_1)$,\n",
    "\n",
    "и выборка $X_2^{n2} = {X_{21} ... X_{2n_2}}$ из распределения Бернулли $X_2 \\sim Ber(p_2)$\n",
    "\n",
    "\n",
    "**Нулевая гипотеза**    $H_0: p_1 = p_2$\n",
    "\n",
    "**Альтернативная гипотеза**     $H_1: p_1 \\not= p_2$ (Двусторонняя альтернатива)\n",
    "\n",
    "**Статистика** $Z_n = \\dfrac{\\bar{p_1}-\\bar{p_2}}{\\sqrt{P(1-P)(\\dfrac{1}{n^2_1}+\\dfrac{1}{n^2_2}})}$\n",
    "\n",
    "Здесь $P = \\dfrac{\\bar{p}_1{n_1} + \\bar{p}_2{n_2}}{{n_1} + {n_2}} $\n",
    "\n",
    "**Нулевое распределение** $Z_n(X_1^{n1},X_2^{n2})  \\sim N(0,1)$"
   ]
  },
  {
   "cell_type": "code",
   "execution_count": 10,
   "metadata": {},
   "outputs": [],
   "source": [
    "from scipy.stats.mstats import trimmed_mean_ci"
   ]
  },
  {
   "cell_type": "code",
   "execution_count": 11,
   "metadata": {},
   "outputs": [],
   "source": [
    "trimmed_mean_ci??"
   ]
  },
  {
   "cell_type": "code",
   "execution_count": 12,
   "metadata": {},
   "outputs": [],
   "source": [
    "def difference_in_proportions(sample1, sample2, alpha = 0.05):    \n",
    "    z = scipy.stats.norm.ppf(1 - alpha / 2.)   \n",
    "    n1 = len(sample1)\n",
    "    n2 = len(sample2)\n",
    "    p1 = float(sum(sample1)) / n1\n",
    "    p2 = float(sum(sample2)) / n2\n",
    "    \n",
    "    l = (p1 - p2) - z * np.sqrt(p1 * (1 - p1)/ n1 + p2 * (1 - p2)/ n2)\n",
    "    r = (p1 - p2) + z * np.sqrt(p1 * (1 - p1)/ n1 + p2 * (1 - p2)/ n2)\n",
    "    \n",
    "    return (l, r)"
   ]
  },
  {
   "cell_type": "code",
   "execution_count": 13,
   "metadata": {},
   "outputs": [],
   "source": [
    "def difference_in_proportions_z(sample1, sample2):\n",
    "    n1 = len(sample1)\n",
    "    n2 = len(sample2)\n",
    "    p1 = float(sum(sample1)) / n1\n",
    "    p2 = float(sum(sample2)) / n2 \n",
    "    P = float(p1*n1 + p2*n2) / (n1 + n2)\n",
    "    return (p1 - p2) / np.sqrt(P * (1 - P) * (1./n1 + 1./n2))"
   ]
  },
  {
   "cell_type": "markdown",
   "metadata": {},
   "source": [
    "Мы будем проверять против двусторонней альтернативы. Подумайте, как проверить относительно односторонней."
   ]
  },
  {
   "cell_type": "code",
   "execution_count": 14,
   "metadata": {},
   "outputs": [],
   "source": [
    "def p_value(z):\n",
    "    return 2 * (1 - scipy.stats.norm.cdf(np.abs(z)))"
   ]
  },
  {
   "cell_type": "code",
   "execution_count": 15,
   "metadata": {},
   "outputs": [],
   "source": [
    "np.random.seed(45)\n",
    "group_a = np.random.binomial(n = 1, p = 0.16, size = 10000) \n",
    "group_b = np.concatenate((np.random.binomial(n = 1, p = 0.04, size = 10000), np.array([100, 1000])))"
   ]
  },
  {
   "cell_type": "code",
   "execution_count": 16,
   "metadata": {},
   "outputs": [
    {
     "data": {
      "text/plain": [
       "array([0, 0, 0, ..., 0, 0, 0])"
      ]
     },
     "execution_count": 16,
     "metadata": {},
     "output_type": "execute_result"
    }
   ],
   "source": [
    "np.random.shuffle(group_b)\n",
    "group_b"
   ]
  },
  {
   "cell_type": "code",
   "execution_count": 17,
   "metadata": {},
   "outputs": [
    {
     "data": {
      "text/plain": [
       "array([   0,    0,    0, ...,    0,  100, 1000])"
      ]
     },
     "execution_count": 17,
     "metadata": {},
     "output_type": "execute_result"
    }
   ],
   "source": [
    "np.concatenate((np.random.binomial(n = 1, p = 0.04, size = 10000), np.array([100, 1000])))"
   ]
  },
  {
   "cell_type": "code",
   "execution_count": 18,
   "metadata": {},
   "outputs": [
    {
     "data": {
      "text/plain": [
       "749.8199999999999"
      ]
     },
     "execution_count": 18,
     "metadata": {},
     "output_type": "execute_result"
    }
   ],
   "source": [
    "12497 * 0.06"
   ]
  },
  {
   "cell_type": "code",
   "execution_count": 19,
   "metadata": {},
   "outputs": [
    {
     "data": {
      "text/plain": [
       "499.88"
      ]
     },
     "execution_count": 19,
     "metadata": {},
     "output_type": "execute_result"
    }
   ],
   "source": [
    "12497 * 0.04"
   ]
  },
  {
   "cell_type": "code",
   "execution_count": 20,
   "metadata": {},
   "outputs": [],
   "source": [
    "group_a = np.concatenate([np.zeros(12497 - 20), np.ones(20)])\n",
    "group_b = np.concatenate([np.zeros(12496 - 35), np.ones(35)])"
   ]
  },
  {
   "cell_type": "code",
   "execution_count": 21,
   "metadata": {},
   "outputs": [
    {
     "data": {
      "text/plain": [
       "array([0., 0., 0., ..., 1., 1., 1.])"
      ]
     },
     "execution_count": 21,
     "metadata": {},
     "output_type": "execute_result"
    }
   ],
   "source": [
    "group_b[group_b<2]\n"
   ]
  },
  {
   "cell_type": "code",
   "execution_count": 22,
   "metadata": {},
   "outputs": [
    {
     "data": {
      "text/plain": [
       "-2.0251258095753264"
      ]
     },
     "execution_count": 22,
     "metadata": {},
     "output_type": "execute_result"
    }
   ],
   "source": [
    "difference_in_proportions_z(group_a, group_b[group_b<2])"
   ]
  },
  {
   "cell_type": "code",
   "execution_count": 23,
   "metadata": {},
   "outputs": [],
   "source": [
    "np.savetxt('group_A.txt', group_a)\n",
    "np.savetxt('group_B.txt', group_b)"
   ]
  },
  {
   "cell_type": "code",
   "execution_count": 24,
   "metadata": {},
   "outputs": [
    {
     "data": {
      "text/plain": [
       "0.0016003840921821237"
      ]
     },
     "execution_count": 24,
     "metadata": {},
     "output_type": "execute_result"
    }
   ],
   "source": [
    "group_a.mean()"
   ]
  },
  {
   "cell_type": "code",
   "execution_count": 25,
   "metadata": {},
   "outputs": [
    {
     "data": {
      "text/plain": [
       "0.00280089628681178"
      ]
     },
     "execution_count": 25,
     "metadata": {},
     "output_type": "execute_result"
    }
   ],
   "source": [
    "group_b.mean()"
   ]
  },
  {
   "cell_type": "code",
   "execution_count": null,
   "metadata": {},
   "outputs": [],
   "source": []
  },
  {
   "cell_type": "markdown",
   "metadata": {},
   "source": [
    "## Z-критерий (зависимые выборки)\n",
    "\n",
    "$X_1$\\ $X_2$ | 1 | 0 | $\\sum$\n",
    "--- | --- | --- | ---\n",
    "1 | a | b | a + b\n",
    "0 | c | d | c + d\n",
    "$\\sum$ | a + c| b + d | n\n",
    "\n",
    "**Выборка**    $X_1^{n1} = {X_{11} ... X_{1n_1}}$ из распределения Бернулли $X_1 \\sim Ber(p_1)$,\n",
    "\n",
    "и выборка $X_2^{n2} = {X_{21} ... X_{2n_2}}$ из распределения Бернулли $X_2 \\sim Ber(p_2)$\n",
    "\n",
    "**Нулевая гипотеза**    $H_0: p_1 = p_2$\n",
    "\n",
    "**Альтернативная гипотеза**     $H_1: p_1 \\not= p_2$  (Двусторонняя альтернатива)\n",
    "\n",
    "**Статистика** $Z({X_1, X_2}) = \\dfrac{b - c}{\\sqrt{b + c - \\frac{(b-c)^2}{n}}}$\n",
    "\n",
    "**Нулевое распределение** $Z_n(X_1^{n1},X_2^{n2})  \\sim N(0,1)$\n",
    "\n",
    "Заметьте, что для расчета статистики применяются те наблюдения, где респонденты/классификаторы/участники выборки дали разные ответы. Если немного повспоминать, похожее выражение у нас было для доверительного интервала."
   ]
  },
  {
   "cell_type": "code",
   "execution_count": 26,
   "metadata": {},
   "outputs": [],
   "source": [
    "np.random.seed(45)\n",
    "group_a = np.random.binomial(n = 1, p = 0.07, size = 1000) # Клики группы в первый баннер\n",
    "group_b = np.random.binomial(n = 1, p = 0.04, size = 1000) # Клики группы во второй баннер\n",
    "\n",
    "def z_statistics_related_samples(sample1, sample2):\n",
    "    sample = list(zip(sample1, sample2))\n",
    "    n = len(sample)\n",
    "        \n",
    "    b = sum([1 if (x[0] == 1 and x[1] == 0) else 0 for x in sample])\n",
    "    c = sum([1 if (x[0] == 0 and x[1] == 1) else 0 for x in sample])\n",
    "    \n",
    "    z = float(b - c) / np.sqrt((b + c) - float((b - c)**2) / n)\n",
    "    return z"
   ]
  },
  {
   "cell_type": "code",
   "execution_count": 27,
   "metadata": {},
   "outputs": [
    {
     "data": {
      "text/plain": [
       "0.0009617979771934237"
      ]
     },
     "execution_count": 27,
     "metadata": {},
     "output_type": "execute_result"
    }
   ],
   "source": [
    "p_value(z_statistics_related_samples(group_a, group_b))"
   ]
  },
  {
   "cell_type": "markdown",
   "metadata": {},
   "source": [
    "Гипотеза о равенстве двух долей уверенно отвергается :)"
   ]
  },
  {
   "cell_type": "markdown",
   "metadata": {},
   "source": [
    "# Вспомним нашу задачу о двух гейзерах"
   ]
  },
  {
   "cell_type": "code",
   "execution_count": 28,
   "metadata": {},
   "outputs": [],
   "source": [
    "import pandas as pd\n",
    "import numpy as np\n",
    "df = pd.read_csv('https://gist.githubusercontent.com/curran/4b59d1046d9e66f2787780ad51a1cd87/raw/9ec906b78a98cf300947a37b56cfe70d01183200/data.tsv', sep='\\t')"
   ]
  },
  {
   "cell_type": "code",
   "execution_count": 29,
   "metadata": {},
   "outputs": [],
   "source": [
    "df['time']=df['eruptions']*60"
   ]
  },
  {
   "cell_type": "code",
   "execution_count": 30,
   "metadata": {},
   "outputs": [],
   "source": [
    "def bootstrap_samples(data, n_samples):\n",
    "    indices = np.random.randint(0, len(data), (n_samples, len(data)))\n",
    "    samples = data[indices]\n",
    "    return samples"
   ]
  },
  {
   "cell_type": "code",
   "execution_count": 31,
   "metadata": {},
   "outputs": [],
   "source": [
    "def boundaries_with_quantiles(stat, alpha):\n",
    "    lr = np.quantile(stat, [alpha / 2., (1 - alpha / 2.)])\n",
    "    return lr"
   ]
  },
  {
   "cell_type": "code",
   "execution_count": 32,
   "metadata": {},
   "outputs": [
    {
     "name": "stdout",
     "output_type": "stream",
     "text": [
      "95% доверительный интервал для времени извержения Old Faithful: [229.98 246.51]\n"
     ]
    },
    {
     "data": {
      "image/png": "[encoded data removed]",
      "text/plain": [
       "<Figure size 432x288 with 1 Axes>"
      ]
     },
     "metadata": {
      "needs_background": "light"
     },
     "output_type": "display_data"
    }
   ],
   "source": [
    "np.random.seed(42)\n",
    "\n",
    "eruptions = df['time'].values\n",
    "\n",
    "bootstrapped_medians = list(map(np.median, bootstrap_samples(eruptions, 1000)))\n",
    "\n",
    "print(\"95% доверительный интервал для времени извержения Old Faithful:\",  \n",
    "      boundaries_with_quantiles(bootstrapped_medians, 0.05))\n",
    "\n",
    "hh = hist(eruptions)"
   ]
  },
  {
   "cell_type": "markdown",
   "metadata": {},
   "source": [
    "Второй гейзер"
   ]
  },
  {
   "cell_type": "code",
   "execution_count": 33,
   "metadata": {},
   "outputs": [],
   "source": [
    "data_raw =[\n",
    "'4m 35s',\n",
    "'5m 13s',\n",
    "'4m 55s',\n",
    "'4m 46s',\n",
    "'4m 53s',\n",
    "'4m 58s ',\n",
    "'4m 52s ',\n",
    "'4m 47s ',\n",
    "'4m 47s ',\n",
    "'4m 42s ',\n",
    "'4m 49s ',\n",
    "'4m 45s ',\n",
    "'4m 56s ',\n",
    "'4m 35s ',\n",
    "'4m 51s',\n",
    "'4m 42s',\n",
    "'4m 50',\n",
    "'4m 39s',\n",
    "'4m 52s ',\n",
    "'4m 42s',\n",
    "'5m 18s',\n",
    "'4m 53s',\n",
    "'5m 2s']"
   ]
  },
  {
   "cell_type": "code",
   "execution_count": 34,
   "metadata": {},
   "outputs": [],
   "source": [
    "import re\n",
    "def process(x):\n",
    "    st = list(map(int,re.findall(r'\\d+',x)))\n",
    "    return st[0]*60+st[1]"
   ]
  },
  {
   "cell_type": "code",
   "execution_count": 35,
   "metadata": {},
   "outputs": [
    {
     "data": {
      "image/png": "[encoded data removed]",
      "text/plain": [
       "<Figure size 432x288 with 1 Axes>"
      ]
     },
     "metadata": {
      "needs_background": "light"
     },
     "output_type": "display_data"
    }
   ],
   "source": [
    "data_processed = np.array(list(map(process,data_raw)))\n",
    "hh = hist(data_processed)"
   ]
  },
  {
   "cell_type": "code",
   "execution_count": 36,
   "metadata": {},
   "outputs": [
    {
     "name": "stdout",
     "output_type": "stream",
     "text": [
      "95% доверительный интервал для времени извержения Beehive: [286. 293.]\n"
     ]
    }
   ],
   "source": [
    "bootstrapped_medians_2 = list(map(np.median, bootstrap_samples(data_processed, 1000)))\n",
    "\n",
    "print(\"95% доверительный интервал для времени извержения Beehive:\",  \n",
    "      boundaries_with_quantiles(bootstrapped_medians_2, 0.05))"
   ]
  },
  {
   "cell_type": "code",
   "execution_count": 37,
   "metadata": {},
   "outputs": [],
   "source": [
    "median_difference = list(map(lambda x: x[1] - x[0], zip(bootstrapped_medians, \n",
    "                                                        bootstrapped_medians_2)))"
   ]
  },
  {
   "cell_type": "code",
   "execution_count": 38,
   "metadata": {},
   "outputs": [
    {
     "data": {
      "text/plain": [
       "array([36., 77.])"
      ]
     },
     "execution_count": 38,
     "metadata": {},
     "output_type": "execute_result"
    }
   ],
   "source": [
    "boundaries_with_quantiles(median_difference, 1e-100)"
   ]
  },
  {
   "cell_type": "markdown",
   "metadata": {},
   "source": [
    "В нашем случае гипотеза о равенстве двух медиан уверенно отвергается. Заметьте, что даже для очень маленького p-value, граница не пересекает ноль. Попробуйте подумать, почему так."
   ]
  },
  {
   "cell_type": "markdown",
   "metadata": {},
   "source": [
    "## Z-Критерий"
   ]
  },
  {
   "cell_type": "markdown",
   "metadata": {},
   "source": [
    "**Выборка**    $X_n = {X_1 ... X_n}$ из нормального распределения $X \\sim N(\\mu,\\sigma^2)$, при этом $\\sigma$ известно.\n",
    "\n",
    "**Нулевая гипотеза**    $H_0: \\mu = \\mu_0$\n",
    "\n",
    "**Альтернативная гипотеза**     $H_1: \\mu \\not= \\mu_0$ \n",
    "\n",
    "**Статистика** $Z_n = \\dfrac{\\bar{X}-\\mu}{\\sigma\\sqrt{n}}$\n",
    "\n",
    "**Нулевое распределение** $Z_n \\sim N(0,1)$"
   ]
  },
  {
   "cell_type": "markdown",
   "metadata": {},
   "source": [
    "<img src=\"https://spss-tutorials.com/img/standard-normal-distribution-with-probabilities.png\" width=700 >"
   ]
  },
  {
   "cell_type": "markdown",
   "metadata": {},
   "source": [
    "Такой критерий используется в случае, если вам известна дисперсия в генеральной совокупности. Обычно это не так, поэтому нужно оценить дисперсию. В случае, если мы переходим от истинного значения дисперсии к ее оценке по выборке, наше нулевое распределение перестанет быть нормальным. Теперь это будет распределение Стьюдента с n-1 степенью свободы. Тем не менее, при n > 30-40 (а тестирование в стандартных для аналитики сферах происходит обычно на выборках больше 40 наблюдений) оно практически неотличимо от нормального. Значит можно будет использовать квантили нормального распределения вместо распределения Стьюдента. Давайте в этом удостоверимся."
   ]
  },
  {
   "cell_type": "code",
   "execution_count": 39,
   "metadata": {},
   "outputs": [
    {
     "name": "stderr",
     "output_type": "stream",
     "text": [
      "C:\\Users\\kzolo\\AppData\\Local\\Temp/ipykernel_13356/361177208.py:8: UserWarning: color is redundantly defined by the 'color' keyword argument and the fmt string \"r-\" (-> color='r'). The keyword argument will take precedence.\n",
      "  ax.plot(x, t.pdf(x, 31),'r-',c='red', lw=2, alpha=0.6, label='student pdf')\n",
      "C:\\Users\\kzolo\\AppData\\Local\\Temp/ipykernel_13356/361177208.py:9: UserWarning: color is redundantly defined by the 'color' keyword argument and the fmt string \"r-\" (-> color='r'). The keyword argument will take precedence.\n",
      "  ax.plot(x, norm.pdf(x),'r-',c='blue', lw=2, alpha=0.6, label='normal pdf')\n"
     ]
    },
    {
     "data": {
      "text/plain": [
       "<matplotlib.legend.Legend at 0x2b5b8156fd0>"
      ]
     },
     "execution_count": 39,
     "metadata": {},
     "output_type": "execute_result"
    },
    {
     "data": {
      "image/png": "[encoded data removed]",
      "text/plain": [
       "<Figure size 720x360 with 1 Axes>"
      ]
     },
     "metadata": {
      "needs_background": "light"
     },
     "output_type": "display_data"
    }
   ],
   "source": [
    "from scipy.stats import t, norm\n",
    "import matplotlib.pyplot as plt\n",
    "\n",
    "fig, ax = plt.subplots(1, 1, figsize=(10,5))\n",
    "x = []\n",
    "pdf = [] \n",
    "x = np.linspace(t.ppf(0.01, 31),t.ppf(0.99, 31), 100)\n",
    "ax.plot(x, t.pdf(x, 31),'r-',c='red', lw=2, alpha=0.6, label='student pdf')\n",
    "ax.plot(x, norm.pdf(x),'r-',c='blue', lw=2, alpha=0.6, label='normal pdf')\n",
    "ax.legend()"
   ]
  },
  {
   "cell_type": "markdown",
   "metadata": {},
   "source": [
    "Уже при n = 30 плотности отличаются достаточно слабо."
   ]
  },
  {
   "cell_type": "markdown",
   "metadata": {},
   "source": [
    "## t-критерий Стьюдента\n",
    "\n",
    "**Выборка**    $X_n = {X_1 ... X_n}$ из нормального распределения $X \\sim N(\\mu,\\sigma^2)$, при этом $\\sigma$ неизвестно.\n",
    "\n",
    "**Нулевая гипотеза**    $H_0: \\mu = \\mu_0$\n",
    "\n",
    "**Альтернативная гипотеза**     $H_1: \\mu \\not= \\mu_0$ \n",
    "\n",
    "**Статистика** $T_n = \\dfrac{\\bar{X}-\\mu}{S\\sqrt{n}}$\n",
    "\n",
    "**Нулевое распределение** $T_n \\sim St(n-1)$"
   ]
  },
  {
   "cell_type": "markdown",
   "metadata": {},
   "source": [
    "## Одновыборочный тест Стьюдента"
   ]
  },
  {
   "cell_type": "code",
   "execution_count": 40,
   "metadata": {},
   "outputs": [],
   "source": [
    "import numpy as np\n",
    "from numpy.random import normal, exponential\n",
    "from statsmodels.stats.weightstats import _zconfint_generic, _tconfint_generic"
   ]
  },
  {
   "cell_type": "markdown",
   "metadata": {},
   "source": [
    "Было [проведено](https://www.statsdirect.com/help/parametric_methods/single_sample_t.htm) исследование систолического давления среди студенток 1 курса медицинского университета. На основании исследования получена выборка из 20 наблюдений. В предварительных исследованиях было обнаружено, что в генеральной совокупности у здоровых женщин той же возрастной группы давление составляет:\n",
    "\n",
    "$Pressure = 120$\n",
    "\n",
    "Необходимо в предположении нормальности проверить, значимо ли отличается средний показатель среди первокурсниц медицинского университета от значения в генеральной совокупности. Так как мы заранее не знаем, в какую сторону он может отличаться, тестировать будем против двусторонней альтернативы."
   ]
  },
  {
   "cell_type": "code",
   "execution_count": 41,
   "metadata": {},
   "outputs": [
    {
     "data": {
      "text/plain": [
       "130.05"
      ]
     },
     "execution_count": 41,
     "metadata": {},
     "output_type": "execute_result"
    }
   ],
   "source": [
    "sample = [128, 127, 118, 115, 144,142,133,140,132,131,111,132,149,122,139,119,136,129,126,128]\n",
    "np.mean(sample)"
   ]
  },
  {
   "cell_type": "markdown",
   "metadata": {},
   "source": [
    "Визуально кажется, что отличие есть. Наблюдений у нас <30, так что тут понадобится t-тест. Гистограмма нашей выборки имеет следующий вид:"
   ]
  },
  {
   "cell_type": "code",
   "execution_count": 42,
   "metadata": {},
   "outputs": [
    {
     "data": {
      "image/png": "[encoded data removed]",
      "text/plain": [
       "<Figure size 432x288 with 1 Axes>"
      ]
     },
     "metadata": {
      "needs_background": "light"
     },
     "output_type": "display_data"
    }
   ],
   "source": [
    "h = hist(sample)"
   ]
  },
  {
   "cell_type": "code",
   "execution_count": 43,
   "metadata": {},
   "outputs": [
    {
     "data": {
      "text/plain": [
       "Ttest_1sampResult(statistic=4.512403659336718, pvalue=0.00023838063630967753)"
      ]
     },
     "execution_count": 43,
     "metadata": {},
     "output_type": "execute_result"
    }
   ],
   "source": [
    "stats.ttest_1samp(sample, 120)"
   ]
  },
  {
   "cell_type": "markdown",
   "metadata": {},
   "source": [
    "Как видно, гипотеза о равенстве среднего 120 уверенно отвергается."
   ]
  },
  {
   "cell_type": "code",
   "execution_count": 44,
   "metadata": {},
   "outputs": [
    {
     "name": "stdout",
     "output_type": "stream",
     "text": [
      "95% Доверительный интервал для отличия средних (5.388428621455609, 14.711571378544413)\n"
     ]
    }
   ],
   "source": [
    "from statsmodels.stats.weightstats import _tconfint_generic\n",
    "\n",
    "sample_std = np.array(sample).std(ddof=1)/sqrt(len(sample))\n",
    "general_mean = 120\n",
    "\n",
    "print(\"95% Доверительный интервал для отличия средних\", \n",
    "      _tconfint_generic(np.array(sample).mean() - general_mean, \n",
    "                        sample_std,  \n",
    "                        len(sample) - 1, \n",
    "                        0.05, \n",
    "                        'two-sided'))"
   ]
  },
  {
   "cell_type": "markdown",
   "metadata": {},
   "source": [
    "## Двухвыборочный тест Стьюдента (независимые выборки)\n",
    "\n",
    "Обычно, когда мы проводим тесты, мы интересуемся добавочным эффектом или отличием какого-то показателя в двух различных выборках (например тем, как люди кликают в разные виды баннеров). Пусть у нас есть два способа генерации случайных чисел. Давайте проверим, что случайные числа генерируются с одинаковым средним."
   ]
  },
  {
   "cell_type": "markdown",
   "metadata": {},
   "source": [
    "## Z-критерий (когда дисперсии нам известны)\n",
    "\n",
    "\n",
    "**Выборка**    $X_1^{n1} = {X_{11} ... X_{1n_1}}$ из нормального распределения $X_1 \\sim N(\\mu_1,\\sigma^2_1)$,\n",
    "\n",
    "и выборка $X_2^{n2} = {X_{21} ... X_{2n_2}}$ из нормального распределения $X_2 \\sim N(\\mu_2,\\sigma^2_2)$\n",
    "\n",
    "при этом $\\sigma_1$ и $\\sigma_2$ известны.\n",
    "\n",
    "**Нулевая гипотеза**    $H_0: \\mu_1 = \\mu_2$\n",
    "\n",
    "**Альтернативная гипотеза**     $H_1: \\mu_1 \\not= \\mu_2$ \n",
    "\n",
    "**Статистика** $Z_n = \\dfrac{\\bar{X_1}-\\bar{X_1}}{\\sqrt{\\dfrac{\\sigma^2_1}{n_1}+\\dfrac{\\sigma^2_2}{n_2}}}$\n",
    "\n",
    "**Нулевое распределение** $Z_n(X_1^{n1},X_2^{n2})  \\sim N(0,1)$"
   ]
  },
  {
   "cell_type": "markdown",
   "metadata": {},
   "source": [
    "В таком случае нулевое распределение статистики – стандартное нормальное. В реальности мы дисперсий почти никогда не знаем. Поступим так же, как делали раньше. Заменим известные дисперсии на их выборочные оценки, а Z-статистику на T-статистику и распределение Стьюдента."
   ]
  },
  {
   "cell_type": "markdown",
   "metadata": {},
   "source": [
    "## T-критерий (когда дисперсии нам неизвестны)\n",
    "\n",
    "\n",
    "**Выборка**    $X_1^{n1} = {X_{11} ... X_{1n_1}}$ из нормального распределения $X_1 \\sim N(\\mu_1,\\sigma^2_1)$,\n",
    "\n",
    "и выборка $X_2^{n2} = {X_{21} ... X_{2n_2}}$ из нормального распределения $X_2 \\sim N(\\mu_2,\\sigma^2_2)$\n",
    "\n",
    "при этом $\\sigma_1$ и $\\sigma_2$ неизвестны.\n",
    "\n",
    "**Нулевая гипотеза**    $H_0: \\mu_1 = \\mu_2$\n",
    "\n",
    "**Альтернативная гипотеза**     $H_1: \\mu_1 \\not= \\mu_2$ \n",
    "\n",
    "**Статистика** $T_n = \\dfrac{\\bar{X_1}-\\bar{X_1}}{\\sqrt{\\dfrac{S^2_1}{n_1}+\\dfrac{S^2_2}{n_2}}}$\n",
    "\n",
    "**Нулевое распределение** $Z_n(X_1^{n1},X_2^{n2}) \\approx \\sim Student(\\xi)$"
   ]
  },
  {
   "cell_type": "markdown",
   "metadata": {},
   "source": [
    "Казалось бы, тут все хорошо, НО:\n",
    "\n",
    "1) Число степеней свободы получившегося распределения Стьюдента имеет совершенно безумный вид:\n",
    "\n",
    "$$\\xi = \\dfrac{\\left(\\dfrac{S^2_1}{n_1}+\\dfrac{S^2_2}{n_2}\\right)^2}{\\dfrac{S^4_1}{n^2_1(n_1-1)}+\\dfrac{S^4_2}{n^2_2(n_2-1)}}$$\n",
    "\n",
    "2) Нулевое распределение нашей статистики всего лишь приближенное (а точного нет). Эта штука называется проблемой [Беренса-Фишера](https://ru.wikipedia.org/wiki/Нерешённые_проблемы_статистики).\n",
    "\n",
    "**Означает это следующее:** С полной математической строгостью сравнивать средние в двух нормальных выборках с неизвестными дисперсиями нельзя.\n",
    "\n",
    "Как это так, спросите Вы, сплошь и рядом все сравнивают, я тоже хочу.\n",
    "\n",
    "Можно использовать наше приближение в двух случаях: \n",
    "\n",
    "1) Размеры выборок равны\n",
    "\n",
    "2) Если выборки разного размера, то в выборке с большей дисперсией кол-во элементов не меньше.\n",
    "\n",
    "Если условия не выполнены, вероятность ошибки первого рода перестает быть ограниченной сверху уровнем значимости (а значит в вашем тесте вы перестаете контролировать истинную значимость)\n",
    "\n",
    "Попробуем применить наш метод для равных выборок. Мы попытаемся сделать выборки из двух нормальных распределений и сравнить в них средние. А потом, кстати, можно проверить нормальность :)"
   ]
  },
  {
   "cell_type": "markdown",
   "metadata": {},
   "source": [
    "## Преобразование Бокса-Мюллера\n",
    "\n",
    "Я узнал метод генерации стандартного нормального распределения. Говорят, что он производит нормально стандартно нормально распределенные случайные величины из равномерно распределенных.\n",
    "\n",
    "Пусть $r$  и $\\phi$ - равномерно распределенные на полуинтервале $(0,1]$ величины.\n",
    "Тогда величина \n",
    "\n",
    "$$z_0 = cos(2\\pi\\phi)\\sqrt{-2ln(r)}$$ будет распределена стандартно нормально.\n",
    "\n",
    "Проведем тест того, что среднее выборки, полученной с помощью такого метода, не отличается от среднего, полученного встроенным в Python способом.\n",
    "\n"
   ]
  },
  {
   "cell_type": "code",
   "execution_count": 45,
   "metadata": {},
   "outputs": [],
   "source": [
    "import math"
   ]
  },
  {
   "cell_type": "code",
   "execution_count": 46,
   "metadata": {},
   "outputs": [],
   "source": [
    "pythonic = np.random.normal(size=1000)"
   ]
  },
  {
   "cell_type": "code",
   "execution_count": 47,
   "metadata": {},
   "outputs": [],
   "source": [
    "def BoxMueller(n=1000):\n",
    "    phi = numpy.random.rand(n)\n",
    "    r = numpy.random.rand(n)\n",
    "    z = np.cos(2*np.pi*phi)*np.sqrt(-2*np.log(r))\n",
    "    return z"
   ]
  },
  {
   "cell_type": "code",
   "execution_count": 48,
   "metadata": {},
   "outputs": [
    {
     "data": {
      "image/png": "[encoded data removed]",
      "text/plain": [
       "<Figure size 432x288 with 1 Axes>"
      ]
     },
     "metadata": {
      "needs_background": "light"
     },
     "output_type": "display_data"
    }
   ],
   "source": [
    "np.random.seed(45)\n",
    "h = hist(BoxMueller(1000))"
   ]
  },
  {
   "cell_type": "code",
   "execution_count": 49,
   "metadata": {},
   "outputs": [
    {
     "data": {
      "text/plain": [
       "-0.02245736121898669"
      ]
     },
     "execution_count": 49,
     "metadata": {},
     "output_type": "execute_result"
    }
   ],
   "source": [
    "pythonic.mean()"
   ]
  },
  {
   "cell_type": "code",
   "execution_count": 50,
   "metadata": {},
   "outputs": [
    {
     "data": {
      "text/plain": [
       "0.016649377623869113"
      ]
     },
     "execution_count": 50,
     "metadata": {},
     "output_type": "execute_result"
    }
   ],
   "source": [
    "np.random.seed(34)\n",
    "box_mueller = BoxMueller()\n",
    "box_mueller.mean()"
   ]
  },
  {
   "cell_type": "code",
   "execution_count": 51,
   "metadata": {},
   "outputs": [
    {
     "data": {
      "text/plain": [
       "Ttest_indResult(statistic=-0.8772466000950881, pvalue=0.3804582012145168)"
      ]
     },
     "execution_count": 51,
     "metadata": {},
     "output_type": "execute_result"
    }
   ],
   "source": [
    "scipy.stats.ttest_ind(pythonic, box_mueller, equal_var = False)"
   ]
  },
  {
   "cell_type": "markdown",
   "metadata": {},
   "source": [
    "Гипотеза о равенстве средних не отвергается. Так и должно быть, ведь можно чисто теоретически показать, что преобразование Бокса-Мюллера дает нормальную величину (задача со звездочкой)."
   ]
  },
  {
   "cell_type": "markdown",
   "metadata": {},
   "source": [
    "## Двухвыборочный тест Стьюдента (зависимые выборки)"
   ]
  },
  {
   "cell_type": "markdown",
   "metadata": {},
   "source": [
    "Предположим, что мы рассматриваем местную службу ухода за пациентами на дому. В компании работают семь медсестер, которые посещают дома пациентов для оказания помощи. Директор компании решает, что необходимо внедрить новую систему планирования посещений, которая организует посещения по секторам, выстраивая маршрут медсестер наиболее удобным образом так, чтобы максимизировать количество посещений за день (то есть больше пациентов будет обслужено). Регион обслуживания компании разделен на секторы, и дома, расположенные в одном и том же секторе, посещаются одним из семи медицинских работников. В данных ниже представлено количество посещений до и после внедрения новой системы. \n",
    "\n",
    "Пример взят [отсюда](http://web.pdx.edu/~newsomj/pa551/lecture8.htm)"
   ]
  },
  {
   "cell_type": "markdown",
   "metadata": {},
   "source": [
    "## T-критерий (когда дисперсии нам неизвестны и выборки связаны)\n",
    "\n",
    "\n",
    "**Выборка**    $X_1^{n1} = {X_{11} ... X_{1n_1}}$ из нормального распределения $X_1 \\sim N(\\mu_1,\\sigma^2_1)$,\n",
    "\n",
    "и выборка $X_2^{n2} = {X_{21} ... X_{2n_2}}$ из нормального распределения $X_2 \\sim N(\\mu_2,\\sigma^2_2)$\n",
    "\n",
    "при этом $\\sigma_1$ и $\\sigma_2$ неизвестны.\n",
    "\n",
    "**Нулевая гипотеза**    $H_0: \\mu_1 = \\mu_2$\n",
    "\n",
    "**Альтернативная гипотеза**     $H_1: \\mu_1 \\not= \\mu_2$ \n",
    "\n",
    "**Статистика** $T_n = \\dfrac{\\bar{X_1}-\\bar{X_1}}{S/\\sqrt{n}}$\n",
    "\n",
    "$S = \\dfrac{1}{n-1}\\sum^n_{i=1}(D_i - \\overline{D})^2$ , где $D_i = X_{2i} - X_{1i}$\n",
    "\n",
    "**Нулевое распределение** $Z_n(X_1^{n1},X_2^{n2}) \\sim Student(n-1)$"
   ]
  },
  {
   "cell_type": "code",
   "execution_count": 52,
   "metadata": {},
   "outputs": [
    {
     "data": {
      "text/html": [
       "<div>\n",
       "<style scoped>\n",
       "    .dataframe tbody tr th:only-of-type {\n",
       "        vertical-align: middle;\n",
       "    }\n",
       "\n",
       "    .dataframe tbody tr th {\n",
       "        vertical-align: top;\n",
       "    }\n",
       "\n",
       "    .dataframe thead th {\n",
       "        text-align: right;\n",
       "    }\n",
       "</style>\n",
       "<table border=\"1\" class=\"dataframe\">\n",
       "  <thead>\n",
       "    <tr style=\"text-align: right;\">\n",
       "      <th></th>\n",
       "      <th>id</th>\n",
       "      <th>visits_before</th>\n",
       "      <th>visits_after</th>\n",
       "    </tr>\n",
       "  </thead>\n",
       "  <tbody>\n",
       "    <tr>\n",
       "      <th>0</th>\n",
       "      <td>1</td>\n",
       "      <td>3</td>\n",
       "      <td>6</td>\n",
       "    </tr>\n",
       "    <tr>\n",
       "      <th>1</th>\n",
       "      <td>2</td>\n",
       "      <td>8</td>\n",
       "      <td>14</td>\n",
       "    </tr>\n",
       "    <tr>\n",
       "      <th>2</th>\n",
       "      <td>3</td>\n",
       "      <td>4</td>\n",
       "      <td>8</td>\n",
       "    </tr>\n",
       "    <tr>\n",
       "      <th>3</th>\n",
       "      <td>4</td>\n",
       "      <td>6</td>\n",
       "      <td>4</td>\n",
       "    </tr>\n",
       "    <tr>\n",
       "      <th>4</th>\n",
       "      <td>5</td>\n",
       "      <td>9</td>\n",
       "      <td>16</td>\n",
       "    </tr>\n",
       "    <tr>\n",
       "      <th>5</th>\n",
       "      <td>6</td>\n",
       "      <td>2</td>\n",
       "      <td>7</td>\n",
       "    </tr>\n",
       "    <tr>\n",
       "      <th>6</th>\n",
       "      <td>7</td>\n",
       "      <td>12</td>\n",
       "      <td>19</td>\n",
       "    </tr>\n",
       "  </tbody>\n",
       "</table>\n",
       "</div>"
      ],
      "text/plain": [
       "   id  visits_before  visits_after\n",
       "0   1              3             6\n",
       "1   2              8            14\n",
       "2   3              4             8\n",
       "3   4              6             4\n",
       "4   5              9            16\n",
       "5   6              2             7\n",
       "6   7             12            19"
      ]
     },
     "execution_count": 52,
     "metadata": {},
     "output_type": "execute_result"
    }
   ],
   "source": [
    "df = pd.DataFrame([[1,3,6],[2,8,14],[3,4,8],[4,6,4],[5,9,16],[6,2,7],[7,12,19]])\n",
    "df.columns = ['id','visits_before','visits_after']\n",
    "df"
   ]
  },
  {
   "cell_type": "code",
   "execution_count": 53,
   "metadata": {},
   "outputs": [],
   "source": [
    "import scipy\n",
    "from statsmodels.stats.weightstats import *"
   ]
  },
  {
   "cell_type": "code",
   "execution_count": 54,
   "metadata": {},
   "outputs": [
    {
     "data": {
      "text/plain": [
       "(1.3750553146740248, 7.196373256754546)"
      ]
     },
     "execution_count": 54,
     "metadata": {},
     "output_type": "execute_result"
    }
   ],
   "source": [
    "DescrStatsW(df.visits_after - df.visits_before).tconfint_mean()"
   ]
  }
 ],
 "metadata": {
  "kernelspec": {
   "display_name": "Python 3 (ipykernel)",
   "language": "python",
   "name": "python3"
  },
  "language_info": {
   "codemirror_mode": {
    "name": "ipython",
    "version": 3
   },
   "file_extension": ".py",
   "mimetype": "text/x-python",
   "name": "python",
   "nbconvert_exporter": "python",
   "pygments_lexer": "ipython3",
   "version": "3.8.12"
  },
  "toc": {
   "base_numbering": 1,
   "nav_menu": {},
   "number_sections": true,
   "sideBar": true,
   "skip_h1_title": false,
   "title_cell": "Table of Contents",
   "title_sidebar": "Contents",
   "toc_cell": false,
   "toc_position": {},
   "toc_section_display": true,
   "toc_window_display": false
  },
  "varInspector": {
   "cols": {
    "lenName": 16,
    "lenType": 16,
    "lenVar": 40
   },
   "kernels_config": {
    "python": {
     "delete_cmd_postfix": "",
     "delete_cmd_prefix": "del ",
     "library": "var_list.py",
     "varRefreshCmd": "print(var_dic_list())"
    },
    "r": {
     "delete_cmd_postfix": ") ",
     "delete_cmd_prefix": "rm(",
     "library": "var_list.r",
     "varRefreshCmd": "cat(var_dic_list()) "
    }
   },
   "types_to_exclude": [
    "module",
    "function",
    "builtin_function_or_method",
    "instance",
    "_Feature"
   ],
   "window_display": false
  }
 },
 "nbformat": 4,
 "nbformat_minor": 4
}
